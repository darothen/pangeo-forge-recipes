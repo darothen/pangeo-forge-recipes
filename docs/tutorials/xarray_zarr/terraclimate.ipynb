{
 "cells": [
  {
   "cell_type": "markdown",
   "metadata": {},
   "source": [
    "[![badge](https://img.shields.io/badge/launch-binder-579ACA.svg?logo=data:image/png;base64,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)](https://mybinder.org/v2/gh/pangeo-forge/pangeo-forge-bakery-images/binder?urlpath=git-pull%3Frepo%3Dhttps%253A%252F%252Fgithub.com%252Fpangeo-forge%252Fpangeo-forge-recipes%26urlpath%3Dtree%252Fpangeo-forge-recipes%252F%252Fdocs%252Ftutorials%252Fxarray_zarr%252Fterraclimate.ipynb%26branch%3Dmaster)"
   ]
  },
  {
   "cell_type": "markdown",
   "metadata": {},
   "source": [
    "# Complex NetCDF to Zarr Recipe: TerraClimate \n",
    "\n",
    "## About the Dataset\n",
    "\n",
    "From http://www.climatologylab.org/terraclimate.html:\n",
    "\n",
    "> TerraClimate is a dataset of monthly climate and climatic water balance for global terrestrial surfaces from 1958-2019. These data provide important inputs for ecological and hydrological studies at global scales that require high spatial resolution and time-varying data. All data have monthly temporal resolution and a ~4-km (1/24th degree) spatial resolution. The data cover the period from 1958-2019. We plan to update these data periodically (annually).\n",
    "\n",
    "## What makes it tricky\n",
    "\n",
    "This is an advanced example that illustrates the following concepts\n",
    "- _Multiple variables in different files_: There is one file per year for a dozen different variables.\n",
    "- _Complex Preprocessing_: We want to apply different preprocessing depending on the variable. This example shows how.\n",
    "- _Inconsistent size of data in input files_: This means we have to scan each input file and cache its metadata before we can start writing the target.\n",
    "\n",
    "This recipe requires a new storage target, a `metadata_cache`. In this example, this is just another directory. You could hypothetically use a database or other key/value store for this."
   ]
  },
  {
   "cell_type": "code",
   "execution_count": null,
   "metadata": {},
   "outputs": [],
   "source": [
    "from pangeo_forge_recipes.recipes import XarrayZarrRecipe\n",
    "from pangeo_forge_recipes.patterns import FilePattern, ConcatDim, MergeDim\n",
    "import xarray as xr"
   ]
  },
  {
   "cell_type": "markdown",
   "metadata": {},
   "source": [
    "## Define Filename Pattern \n",
    "\n",
    "To keep this example smaller, we just use two years instead of the whole record."
   ]
  },
  {
   "cell_type": "code",
   "execution_count": null,
   "metadata": {},
   "outputs": [],
   "source": [
    "target_chunks = {\"lat\": 1024, \"lon\": 1024, \"time\": 12}\n",
    "# only do two years to keep the example small; it's still big!\n",
    "years = list(range(1958, 1960))\n",
    "variables = [\n",
    "    \"aet\",\n",
    "    \"def\",\n",
    "    \"pet\",\n",
    "    \"ppt\",\n",
    "    \"q\",\n",
    "    \"soil\",\n",
    "    \"srad\",\n",
    "    \"swe\",\n",
    "    \"tmax\",\n",
    "    \"tmin\",\n",
    "    \"vap\",\n",
    "    \"ws\",\n",
    "    \"vpd\",\n",
    "    \"PDSI\",\n",
    "]\n",
    "\n",
    "def make_filename(variable, time):\n",
    "    return f\"http://thredds.northwestknowledge.net:8080/thredds/fileServer/TERRACLIMATE_ALL/data/TerraClimate_{variable}_{time}.nc\"\n",
    "\n",
    "pattern = FilePattern(\n",
    "    make_filename,\n",
    "    ConcatDim(name=\"time\", keys=years),\n",
    "    MergeDim(name=\"variable\", keys=variables)\n",
    ")\n",
    "pattern"
   ]
  },
  {
   "cell_type": "markdown",
   "metadata": {},
   "source": [
    "Check out the pattern:"
   ]
  },
  {
   "cell_type": "code",
   "execution_count": null,
   "metadata": {},
   "outputs": [],
   "source": [
    "for key, filename in pattern.items():\n",
    "    break\n",
    "key, filename"
   ]
  },
  {
   "cell_type": "markdown",
   "metadata": {},
   "source": [
    "## Define Preprocessing Functions\n",
    "\n",
    "These functions apply masks for each variable to remove invalid data."
   ]
  },
  {
   "cell_type": "code",
   "execution_count": null,
   "metadata": {},
   "outputs": [],
   "source": [
    "rename_vars = {'PDSI': 'pdsi'}\n",
    "\n",
    "mask_opts = {\n",
    "    \"PDSI\": (\"lt\", 10),\n",
    "    \"aet\": (\"lt\", 32767),\n",
    "    \"def\": (\"lt\", 32767),\n",
    "    \"pet\": (\"lt\", 32767),\n",
    "    \"ppt\": (\"lt\", 32767),\n",
    "    \"ppt_station_influence\": None,\n",
    "    \"q\": (\"lt\", 2147483647),\n",
    "    \"soil\": (\"lt\", 32767),\n",
    "    \"srad\": (\"lt\", 32767),\n",
    "    \"swe\": (\"lt\", 10000),\n",
    "    \"tmax\": (\"lt\", 200),\n",
    "    \"tmax_station_influence\": None,\n",
    "    \"tmin\": (\"lt\", 200),\n",
    "    \"tmin_station_influence\": None,\n",
    "    \"vap\": (\"lt\", 300),\n",
    "    \"vap_station_influence\": None,\n",
    "    \"vpd\": (\"lt\", 300),\n",
    "    \"ws\": (\"lt\", 200),\n",
    "}\n",
    "\n",
    "def apply_mask(key, da):\n",
    "    \"\"\"helper function to mask DataArrays based on a threshold value\"\"\"\n",
    "    if mask_opts.get(key, None):\n",
    "        op, val = mask_opts[key]\n",
    "        if op == \"lt\":\n",
    "            da = da.where(da < val)\n",
    "        elif op == \"neq\":\n",
    "            da = da.where(da != val)\n",
    "    return da\n",
    "\n",
    "\n",
    "def preproc(ds):\n",
    "    \"\"\"custom preprocessing function for terraclimate data\"\"\"\n",
    "    \n",
    "    rename = {}\n",
    "\n",
    "    station_influence = ds.get(\"station_influence\", None)\n",
    "\n",
    "    if station_influence is not None:\n",
    "        ds = ds.drop_vars(\"station_influence\")\n",
    "\n",
    "    var = list(ds.data_vars)[0]\n",
    "\n",
    "    if var in rename_vars:\n",
    "        rename[var] = rename_vars[var]\n",
    "\n",
    "    if \"day\" in ds.coords:\n",
    "        rename[\"day\"] = \"time\"\n",
    "\n",
    "    if station_influence is not None:\n",
    "        ds[f\"{var}_station_influence\"] = station_influence\n",
    "\n",
    "    with xr.set_options(keep_attrs=True):\n",
    "        ds[var] = apply_mask(var, ds[var])\n",
    "\n",
    "    if rename:\n",
    "        ds = ds.rename(rename)\n",
    "                \n",
    "    return ds\n"
   ]
  },
  {
   "cell_type": "markdown",
   "metadata": {},
   "source": [
    "## Define Recipe\n",
    "\n",
    "We are now ready to define the recipe.\n",
    "We also specify the desired chunks of the target dataset.\n",
    "\n",
    "A key property of this recipe is `nitems_per_input=None`, which triggers caching of input metadata."
   ]
  },
  {
   "cell_type": "code",
   "execution_count": null,
   "metadata": {},
   "outputs": [],
   "source": [
    "chunks = {\"lat\": 1024, \"lon\": 1024, \"time\": 12}\n",
    "\n",
    "recipe = XarrayZarrRecipe(\n",
    "    file_pattern=pattern,\n",
    "    target_chunks=target_chunks,\n",
    "    process_chunk=preproc\n",
    ")\n",
    "recipe"
   ]
  },
  {
   "cell_type": "markdown",
   "metadata": {},
   "source": [
    "## Define Storage Targets\n",
    "\n",
    "Since we did not specify `nitems_per_file` in our `ConcatDim`, the recipe needs to cache input metadata.\n",
    "So we need to suply a `metadata_cache` target."
   ]
  },
  {
   "cell_type": "code",
   "execution_count": null,
   "metadata": {},
   "outputs": [],
   "source": [
    "import tempfile\n",
    "from fsspec.implementations.local import LocalFileSystem\n",
    "from pangeo_forge_recipes.storage import FSSpecTarget, CacheFSSpecTarget, MetadataTarget\n",
    "\n",
    "fs_local = LocalFileSystem()\n",
    "\n",
    "target_dir = tempfile.TemporaryDirectory()\n",
    "target = FSSpecTarget(fs_local, target_dir.name)\n",
    "\n",
    "cache_dir = tempfile.TemporaryDirectory()\n",
    "cache_target = CacheFSSpecTarget(fs_local, cache_dir.name)\n",
    "\n",
    "meta_dir = tempfile.TemporaryDirectory()\n",
    "meta_store = MetadataTarget(fs_local, meta_dir.name)\n",
    "\n",
    "recipe.target = target\n",
    "recipe.input_cache = cache_target\n",
    "recipe.metadata_cache = meta_store\n",
    "recipe"
   ]
  },
  {
   "cell_type": "markdown",
   "metadata": {},
   "source": [
    "## Execute with Prefect\n",
    "\n",
    "This produces A LOT of output because we turn on logging."
   ]
  },
  {
   "cell_type": "code",
   "execution_count": null,
   "metadata": {},
   "outputs": [],
   "source": [
    "# logging will display some interesting information about our recipe during execution\n",
    "import logging\n",
    "import sys\n",
    "\n",
    "logging.basicConfig(\n",
    "    format='%(asctime)s [%(levelname)s] %(name)s - %(message)s',\n",
    "    level=logging.INFO,\n",
    "    datefmt='%Y-%m-%d %H:%M:%S',\n",
    "    stream=sys.stdout,\n",
    ")\n",
    "logger = logging.getLogger(\"pangeo_forge_recipes\")\n",
    "logger.setLevel(logging.INFO)"
   ]
  },
  {
   "cell_type": "code",
   "execution_count": null,
   "metadata": {},
   "outputs": [],
   "source": [
    "flow = recipe.to_prefect()\n",
    "flow.run()"
   ]
  },
  {
   "cell_type": "markdown",
   "metadata": {},
   "source": [
    "## Check and Plot Target"
   ]
  },
  {
   "cell_type": "code",
   "execution_count": null,
   "metadata": {},
   "outputs": [],
   "source": [
    "ds_target = xr.open_zarr(target.get_mapper(), consolidated=True)\n",
    "ds_target"
   ]
  },
  {
   "cell_type": "markdown",
   "metadata": {},
   "source": [
    "As an example calculation, we compute and plot the seasonal climatology of soil moisture."
   ]
  },
  {
   "cell_type": "code",
   "execution_count": null,
   "metadata": {},
   "outputs": [],
   "source": [
    "with xr.set_options(keep_attrs=True):\n",
    "    soil_clim = ds_target.soil.groupby('time.season').mean('time').coarsen(lon=12, lat=12).mean()\n",
    "soil_clim"
   ]
  },
  {
   "cell_type": "code",
   "execution_count": null,
   "metadata": {},
   "outputs": [],
   "source": [
    "soil_clim.plot(col='season', col_wrap=2, robust=True, figsize=(18, 8))"
   ]
  },
  {
   "cell_type": "code",
   "execution_count": null,
   "metadata": {},
   "outputs": [],
   "source": []
  }
 ],
 "metadata": {
  "execution": {
   "allow_errors": false,
   "timeout": 3000
  },
  "kernelspec": {
   "display_name": "Python 3 (ipykernel)",
   "language": "python",
   "name": "python3"
  },
  "language_info": {
   "codemirror_mode": {
    "name": "ipython",
    "version": 3
   },
   "file_extension": ".py",
   "mimetype": "text/x-python",
   "name": "python",
   "nbconvert_exporter": "python",
   "pygments_lexer": "ipython3",
   "version": "3.9.7"
  }
 },
 "nbformat": 4,
 "nbformat_minor": 4
}
